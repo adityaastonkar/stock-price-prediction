{
 "cells": [
  {
   "cell_type": "code",
   "execution_count": 1,
   "metadata": {},
   "outputs": [],
   "source": [
    "import numpy as np\n",
    "import pandas as pd\n",
    "from sklearn import preprocessing\n",
    "from sklearn.model_selection import train_test_split\n",
    "from sklearn.linear_model import LinearRegression"
   ]
  },
  {
   "cell_type": "markdown",
   "metadata": {},
   "source": [
    "# Data Preparation"
   ]
  },
  {
   "cell_type": "markdown",
   "metadata": {},
   "source": [
    "In the above section, I started the task of stock price prediction by importing the python libraries. Now I will write a function that will prepare the dataset so that we can fit it easily in the Linear Regression model:"
   ]
  },
  {
   "cell_type": "code",
   "execution_count": 2,
   "metadata": {},
   "outputs": [],
   "source": [
    "def prepare_data(df,forecast_col,forecast_out,test_size):\n",
    "    label = df[forecast_col].shift(-forecast_out) #crating new column called label with the last 5 rows are nan\n",
    "    x = np.array(df[[forecast_col]]) #creating the feature array\n",
    "    x = preprocessing.scale(x) #processing the feature array\n",
    "    x_lately =x[-forecast_out:] #creating the column i want to use later in the predicting method\n",
    "    x = x[:-forecast_out]# X that will contain the training and testing\n",
    "    label.dropna(inplace=True) #droping na values\n",
    "    y = np.array(label)# assigning Y\n",
    "    x_train,x_test,Y_train, Y_test = train_test_split(x,y,test_size=test_size,random_state=0)#cross validation\n",
    "    response = [x_train,x_test,Y_train,Y_test,x_lately]\n",
    "    return response"
   ]
  },
  {
   "cell_type": "markdown",
   "metadata": {},
   "source": [
    "You can easily understand the above function as I have narrated the functioning of every line step by step. Now the next thing to do is reading the data:"
   ]
  },
  {
   "cell_type": "code",
   "execution_count": 6,
   "metadata": {},
   "outputs": [
    {
     "data": {
      "text/html": [
       "<div>\n",
       "<style scoped>\n",
       "    .dataframe tbody tr th:only-of-type {\n",
       "        vertical-align: middle;\n",
       "    }\n",
       "\n",
       "    .dataframe tbody tr th {\n",
       "        vertical-align: top;\n",
       "    }\n",
       "\n",
       "    .dataframe thead th {\n",
       "        text-align: right;\n",
       "    }\n",
       "</style>\n",
       "<table border=\"1\" class=\"dataframe\">\n",
       "  <thead>\n",
       "    <tr style=\"text-align: right;\">\n",
       "      <th></th>\n",
       "      <th>Date</th>\n",
       "      <th>Open</th>\n",
       "      <th>High</th>\n",
       "      <th>Low</th>\n",
       "      <th>Close</th>\n",
       "      <th>Adj Close</th>\n",
       "      <th>Volume</th>\n",
       "    </tr>\n",
       "  </thead>\n",
       "  <tbody>\n",
       "    <tr>\n",
       "      <th>0</th>\n",
       "      <td>27-01-2020</td>\n",
       "      <td>71.320000</td>\n",
       "      <td>71.635002</td>\n",
       "      <td>71.320000</td>\n",
       "      <td>71.324997</td>\n",
       "      <td>71.324997</td>\n",
       "      <td>0</td>\n",
       "    </tr>\n",
       "    <tr>\n",
       "      <th>1</th>\n",
       "      <td>28-01-2020</td>\n",
       "      <td>71.654999</td>\n",
       "      <td>71.654999</td>\n",
       "      <td>71.178001</td>\n",
       "      <td>71.440002</td>\n",
       "      <td>71.440002</td>\n",
       "      <td>0</td>\n",
       "    </tr>\n",
       "    <tr>\n",
       "      <th>2</th>\n",
       "      <td>29-01-2020</td>\n",
       "      <td>71.230103</td>\n",
       "      <td>71.425003</td>\n",
       "      <td>71.168503</td>\n",
       "      <td>71.230400</td>\n",
       "      <td>71.230400</td>\n",
       "      <td>0</td>\n",
       "    </tr>\n",
       "    <tr>\n",
       "      <th>3</th>\n",
       "      <td>30-01-2020</td>\n",
       "      <td>71.300003</td>\n",
       "      <td>71.711998</td>\n",
       "      <td>71.300003</td>\n",
       "      <td>71.300003</td>\n",
       "      <td>71.300003</td>\n",
       "      <td>0</td>\n",
       "    </tr>\n",
       "    <tr>\n",
       "      <th>4</th>\n",
       "      <td>31-01-2020</td>\n",
       "      <td>71.639999</td>\n",
       "      <td>71.639999</td>\n",
       "      <td>71.277496</td>\n",
       "      <td>71.639999</td>\n",
       "      <td>71.639999</td>\n",
       "      <td>0</td>\n",
       "    </tr>\n",
       "  </tbody>\n",
       "</table>\n",
       "</div>"
      ],
      "text/plain": [
       "         Date       Open       High        Low      Close  Adj Close  Volume\n",
       "0  27-01-2020  71.320000  71.635002  71.320000  71.324997  71.324997       0\n",
       "1  28-01-2020  71.654999  71.654999  71.178001  71.440002  71.440002       0\n",
       "2  29-01-2020  71.230103  71.425003  71.168503  71.230400  71.230400       0\n",
       "3  30-01-2020  71.300003  71.711998  71.300003  71.300003  71.300003       0\n",
       "4  31-01-2020  71.639999  71.639999  71.277496  71.639999  71.639999       0"
      ]
     },
     "execution_count": 6,
     "metadata": {},
     "output_type": "execute_result"
    }
   ],
   "source": [
    "df = pd.read_csv(\"price.csv\")\n",
    "#df = df[df.symbol == \"GOOG\"]\n",
    "df.head()"
   ]
  },
  {
   "cell_type": "markdown",
   "metadata": {},
   "source": [
    "Now we need to prepare three input variables as already prepared in the function created in the above section. We need to declare an input variable mentioning about which column we want to predict. The next variable we need to declare is how much far we want to predict.\n",
    "\n",
    "And the last variable that we need to declare is how much should be the size of the test set. Now let’s declare all the variables:"
   ]
  },
  {
   "cell_type": "code",
   "execution_count": 10,
   "metadata": {},
   "outputs": [],
   "source": [
    "forecast_col = \"Close\"\n",
    "forecast_out = 5\n",
    "test_size = 0.2"
   ]
  },
  {
   "cell_type": "markdown",
   "metadata": {},
   "source": [
    "# Applying Machine Learning for Stock Price Prediction# "
   ]
  },
  {
   "cell_type": "markdown",
   "metadata": {},
   "source": [
    "Now I will split the data and fit into the linear regression model:"
   ]
  },
  {
   "cell_type": "code",
   "execution_count": 11,
   "metadata": {},
   "outputs": [
    {
     "data": {
      "text/plain": [
       "LinearRegression()"
      ]
     },
     "execution_count": 11,
     "metadata": {},
     "output_type": "execute_result"
    }
   ],
   "source": [
    "x_train, x_test, Y_train, Y_test, x_lately =prepare_data(df,forecast_col,forecast_out,test_size); #calling the method were the cross validation and data preperation is in\n",
    "learner = LinearRegression() #initializing linear rehression moel\n",
    "learner.fit(x_train,Y_train)#training the linear rehression"
   ]
  },
  {
   "cell_type": "markdown",
   "metadata": {},
   "source": [
    "Now let’s predict the output and have a look at the prices of the stock prices:"
   ]
  },
  {
   "cell_type": "code",
   "execution_count": 13,
   "metadata": {},
   "outputs": [
    {
     "name": "stdout",
     "output_type": "stream",
     "text": [
      "{'test_score': 0.6391451783466722, 'forecast_set': array([73.37040254, 73.12634778, 73.16456803, 73.20017668, 73.1776807 ])}\n"
     ]
    }
   ],
   "source": [
    "score=learner.score(x_test,Y_test)#testing the linar regression model\n",
    "forecast = learner.predict(x_lately)# set that will contain the forecasting data\n",
    "response = {}#creating json object\n",
    "response['test_score']=score\n",
    "response['forecast_set']=forecast\n",
    "\n",
    "print(response)"
   ]
  },
  {
   "cell_type": "code",
   "execution_count": null,
   "metadata": {},
   "outputs": [],
   "source": []
  }
 ],
 "metadata": {
  "kernelspec": {
   "display_name": "Python 3",
   "language": "python",
   "name": "python3"
  },
  "language_info": {
   "codemirror_mode": {
    "name": "ipython",
    "version": 3
   },
   "file_extension": ".py",
   "mimetype": "text/x-python",
   "name": "python",
   "nbconvert_exporter": "python",
   "pygments_lexer": "ipython3",
   "version": "3.8.5"
  }
 },
 "nbformat": 4,
 "nbformat_minor": 4
}
